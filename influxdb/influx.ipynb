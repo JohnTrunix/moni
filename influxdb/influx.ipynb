{
 "cells": [
  {
   "cell_type": "code",
   "execution_count": 50,
   "metadata": {},
   "outputs": [],
   "source": [
    "import os\n",
    "import yaml\n",
    "import pandas as pd\n",
    "from influxdb_client import InfluxDBClient\n",
    "\n",
    "yml_config = 'conf/config.yml'\n",
    "\n",
    "with open(yml_config, 'r', encoding=\"utf-8\") as f:\n",
    "    config = yaml.load(f, Loader=yaml.FullLoader)\n",
    "\n",
    "\n",
    "client = InfluxDBClient(\n",
    "    url=config['influxdb']['url'],\n",
    "    token=config['influxdb']['token'],\n",
    "    org=config['influxdb']['org']\n",
    ")\n",
    "\n",
    "influx_read = client.query_api()"
   ]
  },
  {
   "cell_type": "code",
   "execution_count": 51,
   "metadata": {},
   "outputs": [
    {
     "ename": "KeyboardInterrupt",
     "evalue": "",
     "output_type": "error",
     "traceback": [
      "\u001b[1;31m---------------------------------------------------------------------------\u001b[0m",
      "\u001b[1;31mKeyboardInterrupt\u001b[0m                         Traceback (most recent call last)",
      "Cell \u001b[1;32mIn[51], line 8\u001b[0m\n\u001b[0;32m      6\u001b[0m \u001b[39mfor\u001b[39;00m table \u001b[39min\u001b[39;00m result:\n\u001b[0;32m      7\u001b[0m     \u001b[39mfor\u001b[39;00m row \u001b[39min\u001b[39;00m table\u001b[39m.\u001b[39mrecords:\n\u001b[1;32m----> 8\u001b[0m         df \u001b[39m=\u001b[39m pd\u001b[39m.\u001b[39;49mconcat([df, pd\u001b[39m.\u001b[39;49mDataFrame(row\u001b[39m.\u001b[39;49mvalues, index\u001b[39m=\u001b[39;49mrow\u001b[39m.\u001b[39;49mvalues\u001b[39m.\u001b[39;49mkeys())], axis\u001b[39m=\u001b[39;49m\u001b[39m1\u001b[39;49m)\n\u001b[0;32m     10\u001b[0m df\u001b[39m.\u001b[39mto_csv(\u001b[39m'\u001b[39m\u001b[39minflux_data.csv\u001b[39m\u001b[39m'\u001b[39m)\n\u001b[0;32m     11\u001b[0m df\u001b[39m.\u001b[39mhead()\n",
      "File \u001b[1;32md:\\SoftwareProjects\\moni\\env\\lib\\site-packages\\pandas\\util\\_decorators.py:331\u001b[0m, in \u001b[0;36mdeprecate_nonkeyword_arguments.<locals>.decorate.<locals>.wrapper\u001b[1;34m(*args, **kwargs)\u001b[0m\n\u001b[0;32m    325\u001b[0m \u001b[39mif\u001b[39;00m \u001b[39mlen\u001b[39m(args) \u001b[39m>\u001b[39m num_allow_args:\n\u001b[0;32m    326\u001b[0m     warnings\u001b[39m.\u001b[39mwarn(\n\u001b[0;32m    327\u001b[0m         msg\u001b[39m.\u001b[39mformat(arguments\u001b[39m=\u001b[39m_format_argument_list(allow_args)),\n\u001b[0;32m    328\u001b[0m         \u001b[39mFutureWarning\u001b[39;00m,\n\u001b[0;32m    329\u001b[0m         stacklevel\u001b[39m=\u001b[39mfind_stack_level(),\n\u001b[0;32m    330\u001b[0m     )\n\u001b[1;32m--> 331\u001b[0m \u001b[39mreturn\u001b[39;00m func(\u001b[39m*\u001b[39margs, \u001b[39m*\u001b[39m\u001b[39m*\u001b[39mkwargs)\n",
      "File \u001b[1;32md:\\SoftwareProjects\\moni\\env\\lib\\site-packages\\pandas\\core\\reshape\\concat.py:381\u001b[0m, in \u001b[0;36mconcat\u001b[1;34m(objs, axis, join, ignore_index, keys, levels, names, verify_integrity, sort, copy)\u001b[0m\n\u001b[0;32m    159\u001b[0m \u001b[39m\u001b[39m\u001b[39m\"\"\"\u001b[39;00m\n\u001b[0;32m    160\u001b[0m \u001b[39mConcatenate pandas objects along a particular axis.\u001b[39;00m\n\u001b[0;32m    161\u001b[0m \n\u001b[1;32m   (...)\u001b[0m\n\u001b[0;32m    366\u001b[0m \u001b[39m1   3   4\u001b[39;00m\n\u001b[0;32m    367\u001b[0m \u001b[39m\"\"\"\u001b[39;00m\n\u001b[0;32m    368\u001b[0m op \u001b[39m=\u001b[39m _Concatenator(\n\u001b[0;32m    369\u001b[0m     objs,\n\u001b[0;32m    370\u001b[0m     axis\u001b[39m=\u001b[39maxis,\n\u001b[1;32m   (...)\u001b[0m\n\u001b[0;32m    378\u001b[0m     sort\u001b[39m=\u001b[39msort,\n\u001b[0;32m    379\u001b[0m )\n\u001b[1;32m--> 381\u001b[0m \u001b[39mreturn\u001b[39;00m op\u001b[39m.\u001b[39;49mget_result()\n",
      "File \u001b[1;32md:\\SoftwareProjects\\moni\\env\\lib\\site-packages\\pandas\\core\\reshape\\concat.py:616\u001b[0m, in \u001b[0;36m_Concatenator.get_result\u001b[1;34m(self)\u001b[0m\n\u001b[0;32m    612\u001b[0m             indexers[ax] \u001b[39m=\u001b[39m obj_labels\u001b[39m.\u001b[39mget_indexer(new_labels)\n\u001b[0;32m    614\u001b[0m     mgrs_indexers\u001b[39m.\u001b[39mappend((obj\u001b[39m.\u001b[39m_mgr, indexers))\n\u001b[1;32m--> 616\u001b[0m new_data \u001b[39m=\u001b[39m concatenate_managers(\n\u001b[0;32m    617\u001b[0m     mgrs_indexers, \u001b[39mself\u001b[39;49m\u001b[39m.\u001b[39;49mnew_axes, concat_axis\u001b[39m=\u001b[39;49m\u001b[39mself\u001b[39;49m\u001b[39m.\u001b[39;49mbm_axis, copy\u001b[39m=\u001b[39;49m\u001b[39mself\u001b[39;49m\u001b[39m.\u001b[39;49mcopy\n\u001b[0;32m    618\u001b[0m )\n\u001b[0;32m    619\u001b[0m \u001b[39mif\u001b[39;00m \u001b[39mnot\u001b[39;00m \u001b[39mself\u001b[39m\u001b[39m.\u001b[39mcopy:\n\u001b[0;32m    620\u001b[0m     new_data\u001b[39m.\u001b[39m_consolidate_inplace()\n",
      "File \u001b[1;32md:\\SoftwareProjects\\moni\\env\\lib\\site-packages\\pandas\\core\\internals\\concat.py:199\u001b[0m, in \u001b[0;36mconcatenate_managers\u001b[1;34m(mgrs_indexers, axes, concat_axis, copy)\u001b[0m\n\u001b[0;32m    195\u001b[0m     \u001b[39mreturn\u001b[39;00m _concatenate_array_managers(mgrs_indexers, axes, concat_axis, copy)\n\u001b[0;32m    197\u001b[0m mgrs_indexers \u001b[39m=\u001b[39m _maybe_reindex_columns_na_proxy(axes, mgrs_indexers)\n\u001b[1;32m--> 199\u001b[0m concat_plans \u001b[39m=\u001b[39m [\n\u001b[0;32m    200\u001b[0m     _get_mgr_concatenation_plan(mgr, indexers) \u001b[39mfor\u001b[39;00m mgr, indexers \u001b[39min\u001b[39;00m mgrs_indexers\n\u001b[0;32m    201\u001b[0m ]\n\u001b[0;32m    202\u001b[0m concat_plan \u001b[39m=\u001b[39m _combine_concat_plans(concat_plans, concat_axis)\n\u001b[0;32m    203\u001b[0m blocks \u001b[39m=\u001b[39m []\n",
      "File \u001b[1;32md:\\SoftwareProjects\\moni\\env\\lib\\site-packages\\pandas\\core\\internals\\concat.py:200\u001b[0m, in \u001b[0;36m<listcomp>\u001b[1;34m(.0)\u001b[0m\n\u001b[0;32m    195\u001b[0m     \u001b[39mreturn\u001b[39;00m _concatenate_array_managers(mgrs_indexers, axes, concat_axis, copy)\n\u001b[0;32m    197\u001b[0m mgrs_indexers \u001b[39m=\u001b[39m _maybe_reindex_columns_na_proxy(axes, mgrs_indexers)\n\u001b[0;32m    199\u001b[0m concat_plans \u001b[39m=\u001b[39m [\n\u001b[1;32m--> 200\u001b[0m     _get_mgr_concatenation_plan(mgr, indexers) \u001b[39mfor\u001b[39;00m mgr, indexers \u001b[39min\u001b[39;00m mgrs_indexers\n\u001b[0;32m    201\u001b[0m ]\n\u001b[0;32m    202\u001b[0m concat_plan \u001b[39m=\u001b[39m _combine_concat_plans(concat_plans, concat_axis)\n\u001b[0;32m    203\u001b[0m blocks \u001b[39m=\u001b[39m []\n",
      "File \u001b[1;32md:\\SoftwareProjects\\moni\\env\\lib\\site-packages\\pandas\\core\\internals\\concat.py:317\u001b[0m, in \u001b[0;36m_get_mgr_concatenation_plan\u001b[1;34m(mgr, indexers)\u001b[0m\n\u001b[0;32m    314\u001b[0m join_unit_indexers \u001b[39m=\u001b[39m indexers\u001b[39m.\u001b[39mcopy()\n\u001b[0;32m    316\u001b[0m shape_list \u001b[39m=\u001b[39m \u001b[39mlist\u001b[39m(mgr_shape)\n\u001b[1;32m--> 317\u001b[0m shape_list[\u001b[39m0\u001b[39m] \u001b[39m=\u001b[39m \u001b[39mlen\u001b[39;49m(placements)\n\u001b[0;32m    318\u001b[0m shape \u001b[39m=\u001b[39m \u001b[39mtuple\u001b[39m(shape_list)\n\u001b[0;32m    320\u001b[0m blk \u001b[39m=\u001b[39m mgr\u001b[39m.\u001b[39mblocks[blkno]\n",
      "\u001b[1;31mKeyboardInterrupt\u001b[0m: "
     ]
    }
   ],
   "source": [
    "bucket = config['influxdb']['bucket']\n",
    "query = 'from(bucket: \"global_test\") |>range(start: -24h)'\n",
    "\n",
    "result = influx_read.query(org=config['influxdb']['org'], query=query)\n",
    "df = pd.DataFrame()\n",
    "for table in result:\n",
    "    for row in table.records:\n",
    "        df = pd.concat([df, pd.DataFrame(row.values, index=row.values.keys())], axis=1)\n",
    "\n",
    "df.to_csv('influx_data.csv')\n",
    "df.head()"
   ]
  }
 ],
 "metadata": {
  "kernelspec": {
   "display_name": "env",
   "language": "python",
   "name": "python3"
  },
  "language_info": {
   "codemirror_mode": {
    "name": "ipython",
    "version": 3
   },
   "file_extension": ".py",
   "mimetype": "text/x-python",
   "name": "python",
   "nbconvert_exporter": "python",
   "pygments_lexer": "ipython3",
   "version": "3.10.5"
  },
  "orig_nbformat": 4
 },
 "nbformat": 4,
 "nbformat_minor": 2
}
